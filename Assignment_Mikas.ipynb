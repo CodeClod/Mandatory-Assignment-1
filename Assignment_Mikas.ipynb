{
 "cells": [
  {
   "cell_type": "markdown",
   "metadata": {},
   "source": [
    "Assignments:"
   ]
  },
  {
   "cell_type": "markdown",
   "metadata": {},
   "source": [
    "Assignment 1:"
   ]
  },
  {
   "cell_type": "code",
   "execution_count": null,
   "metadata": {},
   "outputs": [],
   "source": [
    "BoardOfDirectors = ([\"Benny\",\"Hans\", \"Tine\", \"Mille\", \"Torben\", \"Troels\", \"Søren\"])\n",
    "Management = ([\"Tine\", \"Trunte\", \"Rane\"])\n",
    "Employees = ([\"Niels\", \"Anna\", \"Tine\",\"Ole\",\"Trunte\",\"Bent\",\"Rane\",\"Allan\",\"Stine\",\"Claus\",\"Bent\",\"Lars\"])"
   ]
  },
  {
   "cell_type": "markdown",
   "metadata": {},
   "source": [
    "Assignment 2:"
   ]
  },
  {
   "cell_type": "code",
   "execution_count": null,
   "metadata": {},
   "outputs": [],
   "source": [
    "ListOfTuples = [('a',\"Alpha\"),('b',\"Beta\"),('g',\"Gamma\")]"
   ]
  },
  {
   "cell_type": "markdown",
   "metadata": {},
   "source": [
    "Assignment 3:"
   ]
  },
  {
   "cell_type": "code",
   "execution_count": 19,
   "metadata": {},
   "outputs": [
    {
     "name": "stdout",
     "output_type": "stream",
     "text": [
      "{'i', 'a', 'e', 'ø', 'u', 'y', 'å', 'o', 'æ'}\n",
      "{'i', 'a', 'e', 'ø', 'u', 'y', 'å', 'o', 'æ'}\n",
      "{'ø', 'å', 'æ'}\n",
      "\n",
      "set()\n",
      "{'i', 'a', 'e', 'u', 'y', 'o'}\n",
      "{}\n"
     ]
    }
   ],
   "source": [
    "set1 = {'a', 'e', 'i', 'o', 'u', 'y'}\n",
    "set2 = {'a', 'e', 'i', 'o', 'u', 'y', 'æ' ,'ø', 'å'}\n",
    "\n",
    "print(set1.union(set2))\n",
    "print(set1 | set2)\n",
    "\n",
    "print(set1.symmetric_difference(set2))\n",
    "print()\n",
    "\n",
    "print(set1.difference(set2))\n",
    "\n",
    "print(set1.intersection(set2))\n",
    "# Fik det ikke til at fungere i tide\n",
    "def disjointCheck(paramSet1,paramSet2):\n",
    "    disjointSet = {}\n",
    "    for x in paramSet1:\n",
    "        for y in paramSet2:\n",
    "            if (x == y):\n",
    "                set(disjointSet).add(x)\n",
    "    print(disjointSet)\n",
    "disjointCheck(set1,set2)\n",
    "\n",
    "# COME BACK AND MAKE 2 SOLUTIONS HERE!"
   ]
  },
  {
   "cell_type": "markdown",
   "metadata": {},
   "source": [
    "Assignment 4:"
   ]
  },
  {
   "cell_type": "code",
   "execution_count": 8,
   "metadata": {},
   "outputs": [
    {
     "name": "stdout",
     "output_type": "stream",
     "text": [
      "('8', 3, '1985')\n"
     ]
    }
   ],
   "source": [
    "import datetime\n",
    "from datetime import datetime\n",
    "date = \"8-MAR-85\"\n",
    "monthDictionary = {\"JAN\":1,\"FEB\":2, \"MAR\":3,\"APR\":4,\"MAY\":5,\"JUN\":6,\"JUL\":7,\"AUG\":8,\"SEP\":9,\"OCT\":10,\"NOV\":11,\"DEC\":12}\n",
    "\n",
    "def splitDate(dateString: str) -> str:\n",
    "    return dateString.split(\"-\")\n",
    "\n",
    "def translateMonth(translationDate: str) -> str:\n",
    "    # Changing the month\n",
    "    splitDateList = splitDate(translationDate)\n",
    "    splitDateList[1] = monthDictionary[splitDateList[1]]\n",
    "    # Changing the Year\n",
    "    if (int(splitDateList[2]) > int(datetime.now().strftime(\"%y\"))):\n",
    "        splitDateList[2] = \"19\" + splitDateList[2]\n",
    "    else:\n",
    "        splitDateList[2] = \"20\" +  splitDateList[2]\n",
    "    \n",
    "    return tuple(splitDateList)\n",
    "\n",
    "print(translateMonth(date))\n"
   ]
  },
  {
   "cell_type": "markdown",
   "metadata": {},
   "source": [
    "Assignment 5:"
   ]
  },
  {
   "cell_type": "code",
   "execution_count": null,
   "metadata": {},
   "outputs": [],
   "source": []
  }
 ],
 "metadata": {
  "kernelspec": {
   "display_name": ".venv",
   "language": "python",
   "name": "python3"
  },
  "language_info": {
   "codemirror_mode": {
    "name": "ipython",
    "version": 3
   },
   "file_extension": ".py",
   "mimetype": "text/x-python",
   "name": "python",
   "nbconvert_exporter": "python",
   "pygments_lexer": "ipython3",
   "version": "3.11.4"
  },
  "orig_nbformat": 4
 },
 "nbformat": 4,
 "nbformat_minor": 2
}
